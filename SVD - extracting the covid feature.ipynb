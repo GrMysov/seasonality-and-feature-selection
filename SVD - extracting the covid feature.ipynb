{
 "cells": [
  {
   "cell_type": "code",
   "execution_count": null,
   "metadata": {},
   "outputs": [],
   "source": [
    "import numpy as np\n",
    "import pandas as pd\n",
    "import matplotlib.pyplot as plt\n",
    "\n",
    "from statsmodels.nonparametric.kernel_regression import KernelReg\n",
    "\n",
    "tbg = pd.read_csv(\"./trends_by_income_groups.csv\", index_col=0, parse_dates=[\"date\"])"
   ]
  },
  {
   "cell_type": "code",
   "execution_count": null,
   "metadata": {},
   "outputs": [],
   "source": [
    "cols = list(tbg.columns[2:])\n",
    "\n",
    "tbg_agg = (\n",
    "    tbg[\n",
    "        (tbg[\"group\"] < 100)\n",
    "        & (tbg[\"date\"] > pd.to_datetime(\"2018-09-01\"))\n",
    "    ]\n",
    "    .assign(group_collapsed=lambda x: x[\"group\"] // 20)\n",
    "    .groupby([\"date\", \"group_collapsed\"])\n",
    "    .agg({key: np.sum for key in tbg.columns[2:]})\n",
    "    .reset_index()\n",
    "    [[\"date\", \"group_collapsed\"] + cols]\n",
    "    .groupby(\"date\")\n",
    "    .apply(lambda x: pd.Series(np.log(np.ravel(x.values[:, 1:]) + 1000), ))\n",
    ")\n",
    "\n",
    "\n",
    "# idx = 7  # !!!\n",
    "# idx = 9  # !!!\n",
    "# idx = 12  # !!!!!\n",
    "# idx = 19  # ?\n",
    "# idx = 20  # !!!!!\n",
    "idx = 21  # !!\n",
    "# idx = 22  # !!!!!\n",
    "print(cols[idx])\n",
    "tbg_agg.iloc[550:650, (np.arange(tbg_agg.shape[1] // len(cols))*len(cols)) + idx].plot(figsize=(15, 10))"
   ]
  },
  {
   "cell_type": "code",
   "execution_count": null,
   "metadata": {},
   "outputs": [],
   "source": [
    "# Manualy selected covid-dependent categories\n",
    "cats = [2, 7, 9, 12, 19, 20, 22]\n",
    "cols = list(tbg.columns[2 + np.array(cats)])\n",
    "\n",
    "tbg_agg_2 = (\n",
    "    tbg[\n",
    "        (tbg[\"group\"] < 100)\n",
    "        & (tbg[\"date\"] > pd.to_datetime(\"2018-09-01\"))\n",
    "    ]\n",
    "    .assign(group_collapsed=lambda x: x[\"group\"] // 1)\n",
    "    .groupby([\"date\", \"group_collapsed\"])\n",
    "    .agg({key: np.sum for key in tbg.columns[2:]})\n",
    "    .reset_index()\n",
    "    [[\"date\", \"group_collapsed\"] + cols]\n",
    "    .groupby(\"date\")\n",
    "    .apply(lambda x: pd.Series(np.log(np.ravel(x.values[:, 1:]) + 1000), ))\n",
    ")\n",
    "\n",
    "tbg_agg_2.columns = sum([\n",
    "        [\n",
    "            f\"{cat}__{group:03d}\"\n",
    "            for cat in cols\n",
    "        ] for group in range(tbg_agg_2.shape[1] // len(cols))\n",
    "    ], [])"
   ]
  },
  {
   "cell_type": "code",
   "execution_count": null,
   "metadata": {},
   "outputs": [],
   "source": [
    "T = tbg_agg_2.shape[0]\n",
    "\n",
    "\n",
    "new_year_range = 115, 135\n",
    "new_year_cleanup = np.zeros((T, new_year_range[1] - new_year_range[0]))\n",
    "for t in range(*new_year_range):\n",
    "    new_year_cleanup[[t, t+365, t+731], t-new_year_range[0]] += 1\n",
    "\n",
    "cleanup_stuff = np.hstack((\n",
    "    [\n",
    "        np.arange(T).reshape((-1, 1)).astype(int)%7 == wd\n",
    "        for wd in range(7)\n",
    "    ]\n",
    "    + [\n",
    "        np.arange(T).reshape((-1, 1)),\n",
    "        new_year_cleanup,\n",
    "    ]\n",
    "))\n",
    "\n",
    "proj_residuals = lambda X, Y: Y - X.dot(np.linalg.inv((X.T).dot(X) / X.shape[0]).dot((X.T).dot(Y) / X.shape[0]))"
   ]
  },
  {
   "cell_type": "code",
   "execution_count": null,
   "metadata": {},
   "outputs": [],
   "source": [
    "series = proj_residuals(cleanup_stuff, tbg_agg_2.values)\n",
    "series -= np.mean(series, axis=0, keepdims=True, dtype=np.float64)\n",
    "series /= np.std(series, axis=0, keepdims=True, dtype=np.float64)\n",
    "series"
   ]
  },
  {
   "cell_type": "code",
   "execution_count": null,
   "metadata": {},
   "outputs": [],
   "source": [
    "def run_PCA(array: np.ndarray):\n",
    "    U, S, Vt = np.linalg.svd(array, full_matrices=False)\n",
    "    U *= S.reshape((1, -1))\n",
    "    if U.shape[0] > U.shape[1]:\n",
    "        signer = np.sign(U[-1, :]).reshape((1, -1))\n",
    "    else:\n",
    "        signer = np.sign(U[-1, :]).reshape((-1, 1))\n",
    "    Vt *= signer\n",
    "    U *= signer\n",
    "    return U, S, Vt\n",
    "\n",
    "U, S, Vt = run_PCA(series)"
   ]
  },
  {
   "cell_type": "code",
   "execution_count": null,
   "metadata": {
    "scrolled": true
   },
   "outputs": [],
   "source": [
    "S_sum = np.dot(np.square(S), np.triu(np.ones((S.shape[0], S.shape[0]))))\n",
    "S_sum = S_sum/S_sum[-1]\n",
    "feature_num = np.sum(S_sum <= 0.9)\n",
    "print(feature_num)\n",
    "np.square(S)[:5] / np.sum(np.square(S)[:5])"
   ]
  },
  {
   "cell_type": "code",
   "execution_count": null,
   "metadata": {},
   "outputs": [],
   "source": [
    "pd.DataFrame(U[:, :4], index=sorted(list(set(tbg_agg_2.reset_index()[\"date\"])))).plot(figsize=(15, 10))"
   ]
  },
  {
   "cell_type": "code",
   "execution_count": null,
   "metadata": {},
   "outputs": [],
   "source": [
    "fig = plt.figure(figsize=plt.figaspect(0.5), dpi=300)\n",
    "ax = fig.add_subplot(1, 1, 1)\n",
    "\n",
    "x, y = Vt[0]*np.sign(Vt[1]), Vt[1]*np.sign(Vt[1])\n",
    "ax.scatter(x, y)\n",
    "ax.scatter(0, 0, color=\"black\")\n",
    "ax.axhline(0, 0.01, 0.99, color=\"black\", linewidth=0.15)\n",
    "ax.axvline(0, 0.01, 0.99, color=\"black\", linewidth=0.15)\n",
    "for i, col_name in enumerate(tbg_agg_2.columns):\n",
    "    ax.annotate(col_name[:-5], (x[i], y[i]), fontsize=\"xx-small\")\n",
    "\n",
    "plt.show()"
   ]
  },
  {
   "cell_type": "code",
   "execution_count": null,
   "metadata": {},
   "outputs": [],
   "source": [
    "level = np.mean(np.hstack([U[:540, 0], U[700:, 0]]))\n",
    "\n",
    "Fitted = {\n",
    "    bw: KernelReg(U[:, 0], np.arange(T), \"c\", reg_type=\"ll\", bw=[bw]).fit(np.arange(T))[0]\n",
    "    for bw in [1, 2, 3, 5, 7]\n",
    "}\n",
    "art = np.ones(T) * level\n",
    "art[552:670] = Fitted[7][552:670] * 1.05\n",
    "art[560:564] = Fitted[5][560:564]\n",
    "art[580:586] = Fitted[3][580:586] * 1.05\n",
    "art[562:576] = Fitted[2][562:576]\n",
    "art[576:580] = Fitted[1][576:580]\n",
    "\n",
    "ReFitted = KernelReg(art, np.arange(T), \"c\", reg_type=\"ll\", bw=[3]).fit(np.arange(T))[0]\n",
    "art[545:565] = ReFitted[545:565]\n",
    "art[582:590] = ReFitted[582:590]\n",
    "art[650:690] = ReFitted[650:690]\n",
    "\n",
    "ReFitted = KernelReg(art, np.arange(T), \"c\", reg_type=\"ll\", bw=[1]).fit(np.arange(T))[0]\n",
    "art[575:588] = ReFitted[575:588]\n",
    "\n",
    "plotodata = np.vstack([U[:, 0], art]).T\n",
    "pd.DataFrame(plotodata, index=sorted(list(set(tbg_agg_2.reset_index()[\"date\"]))))[500:700].plot(figsize=(15, 10))"
   ]
  },
  {
   "cell_type": "code",
   "execution_count": null,
   "metadata": {},
   "outputs": [],
   "source": [
    "art -= np.mean(art, axis=0, keepdims=True, dtype=np.float64)\n",
    "art /= np.std(art, axis=0, keepdims=True, dtype=np.float64)\n",
    "\n",
    "packed_art = pd.DataFrame(\n",
    "    art.reshape((-1, 1)),\n",
    "    columns=[\"COVID_factor\"],\n",
    "    index=pd.Index(sorted(list(set(tbg_agg_2.reset_index()[\"date\"]))), name=\"date\")\n",
    ")\n",
    "packed_art.to_csv(\"./covid_factor.csv\")"
   ]
  },
  {
   "cell_type": "code",
   "execution_count": null,
   "metadata": {},
   "outputs": [],
   "source": []
  }
 ],
 "metadata": {
  "kernelspec": {
   "display_name": "Python 3 (ipykernel)",
   "language": "python",
   "name": "python3"
  },
  "language_info": {
   "codemirror_mode": {
    "name": "ipython",
    "version": 3
   },
   "file_extension": ".py",
   "mimetype": "text/x-python",
   "name": "python",
   "nbconvert_exporter": "python",
   "pygments_lexer": "ipython3",
   "version": "3.9.6"
  }
 },
 "nbformat": 4,
 "nbformat_minor": 4
}
